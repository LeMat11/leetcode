{
 "cells": [
  {
   "cell_type": "code",
   "execution_count": 2,
   "metadata": {},
   "outputs": [],
   "source": [
    "def calculate(s:str) -> int:\n",
    "    stack = []\n",
    "    result = 0\n",
    "    current = 0\n",
    "    sign = 1\n",
    "    for char in s:\n",
    "        if char.isdigit():\n",
    "            current = current *10 + int(char)\n",
    "        elif char in '+-':\n",
    "            result += sign*current\n",
    "            current = 0\n",
    "            sign = 1 if char == '+' else -1\n",
    "        elif char == '(':\n",
    "            stack.append(result)\n",
    "            stack.append(sign)\n",
    "            result = 0\n",
    "            sign = 1\n",
    "        elif char == ')':\n",
    "            result += sign * current\n",
    "            current = 0\n",
    "            result *= stack.pop()\n",
    "            result += stack.pop()\n",
    "    result += sign*current\n",
    "    return result"
   ]
  },
  {
   "cell_type": "code",
   "execution_count": 3,
   "metadata": {},
   "outputs": [
    {
     "name": "stdout",
     "output_type": "stream",
     "text": [
      "2\n"
     ]
    }
   ],
   "source": [
    "s =  \"1 + 1\"\n",
    "res = calculate(s)\n",
    "print(res)"
   ]
  }
 ],
 "metadata": {
  "kernelspec": {
   "display_name": "Python 3",
   "language": "python",
   "name": "python3"
  },
  "language_info": {
   "codemirror_mode": {
    "name": "ipython",
    "version": 3
   },
   "file_extension": ".py",
   "mimetype": "text/x-python",
   "name": "python",
   "nbconvert_exporter": "python",
   "pygments_lexer": "ipython3",
   "version": "3.12.3"
  }
 },
 "nbformat": 4,
 "nbformat_minor": 2
}
