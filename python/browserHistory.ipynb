{
 "cells": [
  {
   "cell_type": "code",
   "execution_count": null,
   "metadata": {},
   "outputs": [],
   "source": [
    "class BrowserHistory:\n",
    "\n",
    "    def __init__(self, homepage: str):\n",
    "        self.history = [homepage]\n",
    "        self.current = 0\n",
    "\n",
    "    def visit(self, url: str) -> None:\n",
    "        self.history = self.history[:self.current + 1]\n",
    "        self.history.append(url)\n",
    "        self.current += 1\n",
    "\n",
    "    def back(self, steps: int) -> str:\n",
    "        self.current = max(0,self.current-steps)\n",
    "        return self.history[self.current]\n",
    "\n",
    "    def forward(self, steps: int) -> str:\n",
    "        self.current = min(len(self.history)-1,self.current+steps)\n",
    "        return self.history[self.current]\n",
    "\n",
    "\n",
    "# Your BrowserHistory object will be instantiated and called as such:\n",
    "# obj = BrowserHistory(homepage)\n",
    "# obj.visit(url)\n",
    "# param_2 = obj.back(steps)\n",
    "# param_3 = obj.forward(steps)"
   ]
  }
 ],
 "metadata": {
  "kernelspec": {
   "display_name": "Python 3",
   "language": "python",
   "name": "python3"
  },
  "language_info": {
   "name": "python",
   "version": "3.12.3"
  }
 },
 "nbformat": 4,
 "nbformat_minor": 2
}
