{
 "cells": [
  {
   "cell_type": "code",
   "execution_count": 1,
   "metadata": {},
   "outputs": [],
   "source": [
    "from typing import List"
   ]
  },
  {
   "cell_type": "code",
   "execution_count": 2,
   "metadata": {},
   "outputs": [],
   "source": [
    "def evalRPN(tokens: List[str]) -> int:\n",
    "    stack = []\n",
    "    for token in tokens:\n",
    "        if token.isdigit() or (token[0] == '-' and token[1:].isdigit()):\n",
    "            stack.append(int(token))\n",
    "        else:\n",
    "            pop1 = stack.pop()\n",
    "            pop2 = stack.pop()\n",
    "            if token == '+':\n",
    "                stack.append(pop2 + pop1)\n",
    "            elif token == '-':\n",
    "                stack.append(pop2 - pop1)\n",
    "            elif token == '*':\n",
    "                stack.append(pop2 * pop1)\n",
    "            elif token == '/':\n",
    "                # In Python, integer division behaves like Math.trunc in JavaScript\n",
    "                stack.append(int(pop2 / pop1))\n",
    "            else:\n",
    "                raise ValueError(\"Invalid operator\")\n",
    "    return stack[0]"
   ]
  },
  {
   "cell_type": "code",
   "execution_count": 3,
   "metadata": {},
   "outputs": [
    {
     "name": "stdout",
     "output_type": "stream",
     "text": [
      "9\n"
     ]
    }
   ],
   "source": [
    "token = [\"2\",\"1\",\"+\",\"3\",\"*\"]\n",
    "res = evalRPN(token)\n",
    "print(res)"
   ]
  }
 ],
 "metadata": {
  "kernelspec": {
   "display_name": "Python 3",
   "language": "python",
   "name": "python3"
  },
  "language_info": {
   "codemirror_mode": {
    "name": "ipython",
    "version": 3
   },
   "file_extension": ".py",
   "mimetype": "text/x-python",
   "name": "python",
   "nbconvert_exporter": "python",
   "pygments_lexer": "ipython3",
   "version": "3.12.3"
  }
 },
 "nbformat": 4,
 "nbformat_minor": 2
}
